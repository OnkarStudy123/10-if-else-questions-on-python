{
 "cells": [
  {
   "cell_type": "markdown",
   "id": "db91edb4",
   "metadata": {},
   "source": [
    "##  1)  Check if a number is positive, negative, or zero."
   ]
  },
  {
   "cell_type": "code",
   "execution_count": 8,
   "id": "5b0061ec",
   "metadata": {},
   "outputs": [
    {
     "name": "stdout",
     "output_type": "stream",
     "text": [
      "Enter a Number  4\n",
      "Positive\n"
     ]
    }
   ],
   "source": [
    "num = int(input(\"Enter a Number \"))\n",
    "if num>0:\n",
    "    print(\"Positive\")\n",
    "elif num<0:\n",
    "    print(\"Negative\")\n",
    "elif num==0:\n",
    "    print(\"Zero \")"
   ]
  },
  {
   "cell_type": "markdown",
   "id": "9d9d3d39",
   "metadata": {},
   "source": [
    "## 2) Find a maximum of three numbers"
   ]
  },
  {
   "cell_type": "code",
   "execution_count": 19,
   "id": "000a33e4",
   "metadata": {},
   "outputs": [
    {
     "name": "stdout",
     "output_type": "stream",
     "text": [
      "Enter first number: 5\n",
      "Enter second number: 6\n",
      "Enter third number: 8\n",
      "Maximum: 8\n"
     ]
    }
   ],
   "source": [
    "a = int(input(\"Enter first number: \"))\n",
    "b = int(input(\"Enter second number: \"))\n",
    "c = int(input(\"Enter third number: \"))\n",
    "\n",
    "max_num = max(a, b, c)\n",
    "\n",
    "print(\"Maximum:\", max_num)\n"
   ]
  },
  {
   "cell_type": "markdown",
   "id": "5eb6124e",
   "metadata": {},
   "source": [
    "## 3) Check if a given string is a palindrome."
   ]
  },
  {
   "cell_type": "code",
   "execution_count": 23,
   "id": "09eb59f3",
   "metadata": {},
   "outputs": [
    {
     "name": "stdout",
     "output_type": "stream",
     "text": [
      "Enter a string: lasal\n",
      "Palindrome\n"
     ]
    }
   ],
   "source": [
    "string = input(\"Enter a string: \")\n",
    "if string == string[::-1]:          # in this we will reverse the string or check if the string equal to string\n",
    "    print(\"Palindrome\")\n",
    "else:\n",
    "    print(\"Not a palindrome\")\n"
   ]
  },
  {
   "cell_type": "markdown",
   "id": "b3929a38",
   "metadata": {},
   "source": [
    "## 4) Determine the grade based on a student's score."
   ]
  },
  {
   "cell_type": "code",
   "execution_count": 32,
   "id": "f93b4270",
   "metadata": {},
   "outputs": [
    {
     "name": "stdout",
     "output_type": "stream",
     "text": [
      "Enter the score: 90.5\n",
      "Grade: A\n"
     ]
    }
   ],
   "source": [
    "score = float(input(\"Enter the score: \"))    # in this line we will use float because the scores also in the 20.4 type\n",
    "\n",
    "if score >= 90:\n",
    "    print(\"Grade: A\")\n",
    "elif score >= 80:\n",
    "    print(\"Grade: B\")\n",
    "elif score >= 50:\n",
    "    print(\"Grade: C\")\n",
    "elif score >= 35:\n",
    "    print(\"Grade: D\")\n",
    "else:\n",
    "    print(\"Grade: F\")\n"
   ]
  },
  {
   "cell_type": "markdown",
   "id": "55876950",
   "metadata": {},
   "source": [
    "## 5) Check if a number is even or odd. "
   ]
  },
  {
   "cell_type": "code",
   "execution_count": 35,
   "id": "1995ed16",
   "metadata": {},
   "outputs": [
    {
     "name": "stdout",
     "output_type": "stream",
     "text": [
      "Enter a Number25\n",
      "odd\n"
     ]
    }
   ],
   "source": [
    "num= int(input(\"Enter a Number\"))\n",
    "if num%2==0:\n",
    "    print(\"even number\")\n",
    "else:\n",
    "    print(\"odd\")"
   ]
  },
  {
   "cell_type": "markdown",
   "id": "b9ee4881",
   "metadata": {},
   "source": [
    "## 6) Determine the discount based on the purchase amount."
   ]
  },
  {
   "cell_type": "code",
   "execution_count": 41,
   "id": "33073e86",
   "metadata": {},
   "outputs": [
    {
     "name": "stdout",
     "output_type": "stream",
     "text": [
      "Enter the purchase amount: 1100\n",
      "Discount: 110.0\n",
      "Total amount: 990.0\n"
     ]
    }
   ],
   "source": [
    "purchase_amount = float(input(\"Enter the purchase amount: \"))\n",
    "if purchase_amount >= 1000:\n",
    "    discount = 0.1 * purchase_amount\n",
    "else:\n",
    "    discount = 0\n",
    "total_amount = purchase_amount - discount\n",
    "print(\"Discount:\", discount)\n",
    "print(\"Total amount:\", total_amount)\n"
   ]
  },
  {
   "cell_type": "markdown",
   "id": "8fdd3aac",
   "metadata": {},
   "source": [
    "## 7) Determine the type of a triangle based on its sides."
   ]
  },
  {
   "cell_type": "code",
   "execution_count": 45,
   "id": "6a212398",
   "metadata": {},
   "outputs": [
    {
     "name": "stdout",
     "output_type": "stream",
     "text": [
      "Enter the length of side 1: 20\n",
      "Enter the length of side 2: 40\n",
      "Enter the length of side 3: 40\n",
      "Isosceles triangle\n"
     ]
    }
   ],
   "source": [
    "side1 = float(input(\"Enter the length of side 1: \"))\n",
    "side2 = float(input(\"Enter the length of side 2: \"))\n",
    "side3 = float(input(\"Enter the length of side 3: \"))\n",
    "if side1 == side2 == side3:\n",
    "    print(\"Equilateral triangle\")\n",
    "elif side1 == side2 or side1 == side3 or side2 == side3:\n",
    "    print(\"Isosceles triangle\")\n",
    "else:\n",
    "    print(\"Scalene triangle\")\n"
   ]
  },
  {
   "cell_type": "markdown",
   "id": "119172c0",
   "metadata": {},
   "source": [
    "## 8) Check if a given year is a century year."
   ]
  },
  {
   "cell_type": "code",
   "execution_count": 55,
   "id": "8ccd5a99",
   "metadata": {},
   "outputs": [
    {
     "name": "stdout",
     "output_type": "stream",
     "text": [
      "Enter a year: 2000\n",
      "Century year\n"
     ]
    }
   ],
   "source": [
    "year = int(input(\"Enter a year: \"))\n",
    "if year % 100 == 0:\n",
    "    print(\"Century year\")\n",
    "else:\n",
    "    print(\"Not a century year\")\n"
   ]
  },
  {
   "cell_type": "markdown",
   "id": "215e2f8c",
   "metadata": {},
   "source": [
    "## 9) Determine the eligibility for voting based on age."
   ]
  },
  {
   "cell_type": "code",
   "execution_count": 59,
   "id": "bdd49bdf",
   "metadata": {},
   "outputs": [
    {
     "name": "stdout",
     "output_type": "stream",
     "text": [
      "Enter your age: 17\n",
      "You are not eligible to vote yet\n"
     ]
    }
   ],
   "source": [
    "age = int(input(\"Enter your age: \"))\n",
    "\n",
    "if age >= 18:\n",
    "    print(\"You are eligible to vote\")\n",
    "else:\n",
    "    print(\"You are not eligible to vote yet\")\n"
   ]
  },
  {
   "cell_type": "markdown",
   "id": "85c50b52",
   "metadata": {},
   "source": [
    "## 10) Calculate the area of a triangle given its base and height."
   ]
  },
  {
   "cell_type": "code",
   "execution_count": 62,
   "id": "b4dfeb26",
   "metadata": {},
   "outputs": [
    {
     "name": "stdout",
     "output_type": "stream",
     "text": [
      "Enter the base of the triangle: 20\n",
      "Enter the height of the triangle: 50\n",
      "Area of the triangle: 500.0\n"
     ]
    }
   ],
   "source": [
    "base = float(input(\"Enter the base of the triangle: \"))\n",
    "height = float(input(\"Enter the height of the triangle: \"))\n",
    "\n",
    "if base > 0 and height > 0:\n",
    "    area = 0.5 * base * height\n",
    "    print(\"Area of the triangle:\", area)\n",
    "else:\n",
    "    print(\"Base and height must be positive numbers.\")\n"
   ]
  },
  {
   "cell_type": "code",
   "execution_count": null,
   "id": "4aad4c96",
   "metadata": {},
   "outputs": [],
   "source": []
  }
 ],
 "metadata": {
  "kernelspec": {
   "display_name": "Python 3 (ipykernel)",
   "language": "python",
   "name": "python3"
  },
  "language_info": {
   "codemirror_mode": {
    "name": "ipython",
    "version": 3
   },
   "file_extension": ".py",
   "mimetype": "text/x-python",
   "name": "python",
   "nbconvert_exporter": "python",
   "pygments_lexer": "ipython3",
   "version": "3.11.5"
  }
 },
 "nbformat": 4,
 "nbformat_minor": 5
}
